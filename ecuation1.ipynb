{
 "cells": [
  {
   "cell_type": "code",
   "execution_count": 1,
   "metadata": {},
   "outputs": [
    {
     "data": {
      "text/html": [
       "\n",
       "                <audio controls=\"controls\" autoplay=\"autoplay\">\n",
       "                    <source src=\"data:audio/wav;base64,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\" type=\"audio/wav\" />\n",
       "                    Your browser does not support the audio element.\n",
       "                </audio>\n",
       "              "
      ],
      "text/plain": [
       "<IPython.lib.display.Audio object>"
      ]
     },
     "metadata": {},
     "output_type": "display_data"
    },
    {
     "data": {
      "text/html": [
       "\n",
       "                <audio controls=\"controls\" autoplay=\"autoplay\">\n",
       "                    <source src=\"data:audio/wav;base64,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\" type=\"audio/wav\" />\n",
       "                    Your browser does not support the audio element.\n",
       "                </audio>\n",
       "              "
      ],
      "text/plain": [
       "<IPython.lib.display.Audio object>"
      ]
     },
     "metadata": {},
     "output_type": "display_data"
    },
    {
     "data": {
      "text/html": [
       "\n",
       "                <audio controls=\"controls\" autoplay=\"autoplay\">\n",
       "                    <source src=\"data:audio/wav;base64,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\" type=\"audio/wav\" />\n",
       "                    Your browser does not support the audio element.\n",
       "                </audio>\n",
       "              "
      ],
      "text/plain": [
       "<IPython.lib.display.Audio object>"
      ]
     },
     "metadata": {},
     "output_type": "display_data"
    },
    {
     "data": {
      "text/html": [
       "\n",
       "                <audio controls=\"controls\" autoplay=\"autoplay\">\n",
       "                    <source src=\"data:audio/wav;base64,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\" type=\"audio/wav\" />\n",
       "                    Your browser does not support the audio element.\n",
       "                </audio>\n",
       "              "
      ],
      "text/plain": [
       "<IPython.lib.display.Audio object>"
      ]
     },
     "metadata": {},
     "output_type": "display_data"
    },
    {
     "data": {
      "text/html": [
       "\n",
       "                <audio controls=\"controls\" autoplay=\"autoplay\">\n",
       "                    <source src=\"data:audio/wav;base64,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\" type=\"audio/wav\" />\n",
       "                    Your browser does not support the audio element.\n",
       "                </audio>\n",
       "              "
      ],
      "text/plain": [
       "<IPython.lib.display.Audio object>"
      ]
     },
     "metadata": {},
     "output_type": "display_data"
    },
    {
     "data": {
      "text/html": [
       "\n",
       "                <audio controls=\"controls\" autoplay=\"autoplay\">\n",
       "                    <source src=\"data:audio/wav;base64,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\" type=\"audio/wav\" />\n",
       "                    Your browser does not support the audio element.\n",
       "                </audio>\n",
       "              "
      ],
      "text/plain": [
       "<IPython.lib.display.Audio object>"
      ]
     },
     "metadata": {},
     "output_type": "display_data"
    },
    {
     "data": {
      "text/html": [
       "\n",
       "                <audio controls=\"controls\" autoplay=\"autoplay\">\n",
       "                    <source src=\"data:audio/wav;base64,UklGRvQHAABXQVZFZm10IBAAAAABAAEAECcAACBOAAACABAAZGF0YdAHAAAAAG1/BegXhR4vC3Jru92anlelVHOY2b7Qc1srB4T7675/+/sEgesbu3krzdeP8UefYn+laq7caak9iIpz2Ol8ChASgAkIa34s4JOHfzYrbsW0/p9OXXNO7pPlxQF3tSNGgvXz/3/180aCtSMBd+XF7pNzTk5d/p/FtCtufzaThyzga34JCBKAChDpfHPYiIqpPdxpaq5/pZ9i8UfXjyvNu3nrGwSB+/u+f/vrB4RbK9Bz2b5zmKVUnlfdmmu7C3IeLxeFBehtfwAAk4D7F+l64tD1jZVEI2ViqFurjWcnQTCMpdT5ewUUQoAFBPx+FeRFhtUyKXAPuGGdgVqWUSSWV8J4dY0nF4P27+5/9/eVgdQfbXiBydWRO0sCYLKijbESbBs6/4hL3Lp9CwwBgAsMun1L3P+IGzoSbI2xsqICYDtL1ZGByW141B+Vgff37n/27xeDjSd4dVfCJJaWUYFaYZ0PuClw1TJFhhXk/H4FBEKABRT5e6XUMIwnQY1nW6tiqCNllUT1jeLQ6Xr7F5OAAABtfwXoF4UeLwtya7vdmp5XpVRzmNm+0HNbKweE++u+f/v7BIHrG7t5K83Xj/FHn2J/pWqu3GmpPYiKc9jpfAoQEoAJCGt+LOCTh382K27FtP6fTl1zTu6T5cUBd7UjRoL18/9/9fNGgrUjAXflxe6Tc05OXf6fxbQrbn82k4cs4Gt+CQgSgAoQ6Xxz2IiKqT3caWquf6WfYvFH148rzbt56xsEgfv7vn/76weEWyvQc9m+c5ilVJ5X3ZpruwtyHi8XhQXobX8AAJOA+xfpeuLQ9Y2VRCNlYqhbq41nJ0EwjKXU+XsFFEKABQT8fhXkRYbVMilwD7hhnYFallEkllfCeHWNJxeD9u/uf/f3lYHUH214gcnVkTtLAmCyoo2xEmwbOv+IS9y6fQsMAYALDLp9S9z/iBs6EmyNsbKiAmA7S9WRgclteNQflYH39+5/9u8Xg40neHVXwiSWllGBWmGdD7gpcNUyRYYV5Px+BQRCgAUU+Xul1DCMJ0GNZ1urYqgjZZVE9Y3i0Ol6+xeTgAAAbX8F6BeFHi8Lcmu73ZqeV6VUc5jZvtBzWysHhPvrvn/7+wSB6xu7eSvN14/xR59if6VqrtxpqT2IinPY6XwKEBKACQhrfizgk4d/NituxbT+n05dc07uk+XFAXe1I0aC9fP/f/XzRoK1IwF35cXuk3NOTl3+n8W0K25/NpOHLOBrfgkIEoAKEOl8c9iIiqk93Glqrn+ln2LxR9ePK827eesbBIH7+75/++sHhFsr0HPZvnOYpVSeV92aa7sLch4vF4UF6G1/AACTgPsX6Xri0PWNlUQjZWKoW6uNZydBMIyl1Pl7BRRCgAUE/H4V5EWG1TIpcA+4YZ2BWpZRJJZXwnh1jScXg/bv7n/395WB1B9teIHJ1ZE7SwJgsqKNsRJsGzr/iEvcun0LDAGACwy6fUvc/4gbOhJsjbGyogJgO0vVkYHJbXjUH5WB9/fuf/bvF4ONJ3h1V8IklpZRgVphnQ+4KXDVMkWGFeT8fgUEQoAFFPl7pdQwjCdBjWdbq2KoI2WVRPWN4tDpevsXk4AAAG1/BegXhR4vC3Jru92anlelVHOY2b7Qc1srB4T7675/+/sEgesbu3krzdeP8UefYn+laq7caak9iIpz2Ol8ChASgAkIa34s4JOHfzYrbsW0/p9OXXNO7pPlxQF3tSNGgvXz/3/180aCtSMBd+XF7pNzTk5d/p/FtCtufzaThyzga34JCBKAChDpfHPYiIqpPdxpaq5/pZ9i8UfXjyvNu3nrGwSB+/u+f/vrB4RbK9Bz2b5zmKVUnlfdmmu7C3IeLxeFBehtfwAAk4D7F+l64tD1jZVEI2ViqFurjWcnQTCMpdT5ewUUQoAFBPx+FeRFhtUyKXAPuGGdgVqWUSSWV8J4dY0nF4P27+5/9/eVgdQfbXiBydWRO0sCYLKijbESbBs6/4hL3Lp9CwwBgAsMun1L3P+IGzoSbI2xsqICYDtL1ZGByW141B+Vgff37n/27xeDjSd4dVfCJJaWUYFaYZ0PuClw1TJFhhXk/H4FBEKABRT5e6XUMIwnQY1nW6tiqCNllUT1jeLQ6Xr7F5OAAABtfwXoF4UeLwtya7vdmp5XpVRzmNm+0HNbKweE++u+f/v7BIHrG7t5K83Xj/FHn2J/pWqu3GmpPYiKc9jpfAoQEoAJCGt+LOCTh382K27FtP6fTl1zTu6T5cUBd7UjRoL18/9/9fNGgrUjAXflxe6Tc05OXf6fxbQrbn82k4cs4Gt+CQgSgAoQ6Xxz2IiKqT3caWquf6WfYvFH148rzbt56xsEgfv7vn/76weEWyvQc9m+c5ilVJ5X3ZpruwtyHi8XhQXobX8AAJOA+xfpeuLQ9Y2VRCNlYqhbq41nJ0EwjKXU+XsFFEKABQT8fhXkRYbVMilwD7hhnYFallEkllfCeHWNJxeD9u/uf/f3lYHUH214gcnVkTtLAmCyoo2xEmwbOv+IS9y6fQsMAYALDLp9S9z/iBs6EmyNsbKiAmA7S9WRgclteNQflYH39+5/9u8Xg40neHVXwiSWllGBWmGdD7gpcNUyRYYV5Px+BQRCgAUU+Xul1DCMJ0GNZ1urYqgjZZVE9Y3i0Ol6+xeTgA==\" type=\"audio/wav\" />\n",
       "                    Your browser does not support the audio element.\n",
       "                </audio>\n",
       "              "
      ],
      "text/plain": [
       "<IPython.lib.display.Audio object>"
      ]
     },
     "metadata": {},
     "output_type": "display_data"
    },
    {
     "data": {
      "text/html": [
       "\n",
       "                <audio controls=\"controls\" autoplay=\"autoplay\">\n",
       "                    <source src=\"data:audio/wav;base64,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\" type=\"audio/wav\" />\n",
       "                    Your browser does not support the audio element.\n",
       "                </audio>\n",
       "              "
      ],
      "text/plain": [
       "<IPython.lib.display.Audio object>"
      ]
     },
     "metadata": {},
     "output_type": "display_data"
    },
    {
     "data": {
      "text/html": [
       "\n",
       "                <audio controls=\"controls\" autoplay=\"autoplay\">\n",
       "                    <source src=\"data:audio/wav;base64,UklGRvQHAABXQVZFZm10IBAAAAABAAEAECcAACBOAAACABAAZGF0YdAHAAAAAG1/BegXhR4vC3Jru92anlelVHOY2b7Qc1srB4T7675/+/sEgesbu3krzdeP8UefYn+laq7caak9iIpz2Ol8ChASgAkIa34s4JOHfzYrbsW0/p9OXXNO7pPlxQF3tSNGgvXz/3/180aCtSMBd+XF7pNzTk5d/p/FtCtufzaThyzga34JCBKAChDpfHPYiIqpPdxpaq5/pZ9i8UfXjyvNu3nrGwSB+/u+f/vrB4RbK9Bz2b5zmKVUnlfdmmu7C3IeLxeFBehtfwAAk4D7F+l64tD1jZVEI2ViqFurjWcnQTCMpdT5ewUUQoAFBPx+FeRFhtUyKXAPuGGdgVqWUSSWV8J4dY0nF4P27+5/9/eVgdQfbXiBydWRO0sCYLKijbESbBs6/4hL3Lp9CwwBgAsMun1L3P+IGzoSbI2xsqICYDtL1ZGByW141B+Vgff37n/27xeDjSd4dVfCJJaWUYFaYZ0PuClw1TJFhhXk/H4FBEKABRT5e6XUMIwnQY1nW6tiqCNllUT1jeLQ6Xr7F5OAAABtfwXoF4UeLwtya7vdmp5XpVRzmNm+0HNbKweE++u+f/v7BIHrG7t5K83Xj/FHn2J/pWqu3GmpPYiKc9jpfAoQEoAJCGt+LOCTh382K27FtP6fTl1zTu6T5cUBd7UjRoL18/9/9fNGgrUjAXflxe6Tc05OXf6fxbQrbn82k4cs4Gt+CQgSgAoQ6Xxz2IiKqT3caWquf6WfYvFH148rzbt56xsEgfv7vn/76weEWyvQc9m+c5ilVJ5X3ZpruwtyHi8XhQXobX8AAJOA+xfpeuLQ9Y2VRCNlYqhbq41nJ0EwjKXU+XsFFEKABQT8fhXkRYbVMilwD7hhnYFallEkllfCeHWNJxeD9u/uf/f3lYHUH214gcnVkTtLAmCyoo2xEmwbOv+IS9y6fQsMAYALDLp9S9z/iBs6EmyNsbKiAmA7S9WRgclteNQflYH39+5/9u8Xg40neHVXwiSWllGBWmGdD7gpcNUyRYYV5Px+BQRCgAUU+Xul1DCMJ0GNZ1urYqgjZZVE9Y3i0Ol6+xeTgAAAbX8F6BeFHi8Lcmu73ZqeV6VUc5jZvtBzWysHhPvrvn/7+wSB6xu7eSvN14/xR59if6VqrtxpqT2IinPY6XwKEBKACQhrfizgk4d/NituxbT+n05dc07uk+XFAXe1I0aC9fP/f/XzRoK1IwF35cXuk3NOTl3+n8W0K25/NpOHLOBrfgkIEoAKEOl8c9iIiqk93Glqrn+ln2LxR9ePK827eesbBIH7+75/++sHhFsr0HPZvnOYpVSeV92aa7sLch4vF4UF6G1/AACTgPsX6Xri0PWNlUQjZWKoW6uNZydBMIyl1Pl7BRRCgAUE/H4V5EWG1TIpcA+4YZ2BWpZRJJZXwnh1jScXg/bv7n/395WB1B9teIHJ1ZE7SwJgsqKNsRJsGzr/iEvcun0LDAGACwy6fUvc/4gbOhJsjbGyogJgO0vVkYHJbXjUH5WB9/fuf/bvF4ONJ3h1V8IklpZRgVphnQ+4KXDVMkWGFeT8fgUEQoAFFPl7pdQwjCdBjWdbq2KoI2WVRPWN4tDpevsXk4AAAG1/BegXhR4vC3Jru92anlelVHOY2b7Qc1srB4T7675/+/sEgesbu3krzdeP8UefYn+laq7caak9iIpz2Ol8ChASgAkIa34s4JOHfzYrbsW0/p9OXXNO7pPlxQF3tSNGgvXz/3/180aCtSMBd+XF7pNzTk5d/p/FtCtufzaThyzga34JCBKAChDpfHPYiIqpPdxpaq5/pZ9i8UfXjyvNu3nrGwSB+/u+f/vrB4RbK9Bz2b5zmKVUnlfdmmu7C3IeLxeFBehtfwAAk4D7F+l64tD1jZVEI2ViqFurjWcnQTCMpdT5ewUUQoAFBPx+FeRFhtUyKXAPuGGdgVqWUSSWV8J4dY0nF4P27+5/9/eVgdQfbXiBydWRO0sCYLKijbESbBs6/4hL3Lp9CwwBgAsMun1L3P+IGzoSbI2xsqICYDtL1ZGByW141B+Vgff37n/27xeDjSd4dVfCJJaWUYFaYZ0PuClw1TJFhhXk/H4FBEKABRT5e6XUMIwnQY1nW6tiqCNllUT1jeLQ6Xr7F5OAAABtfwXoF4UeLwtya7vdmp5XpVRzmNm+0HNbKweE++u+f/v7BIHrG7t5K83Xj/FHn2J/pWqu3GmpPYiKc9jpfAoQEoAJCGt+LOCTh382K27FtP6fTl1zTu6T5cUBd7UjRoL18/9/9fNGgrUjAXflxe6Tc05OXf6fxbQrbn82k4cs4Gt+CQgSgAoQ6Xxz2IiKqT3caWquf6WfYvFH148rzbt56xsEgfv7vn/76weEWyvQc9m+c5ilVJ5X3ZpruwtyHi8XhQXobX8AAJOA+xfpeuLQ9Y2VRCNlYqhbq41nJ0EwjKXU+XsFFEKABQT8fhXkRYbVMilwD7hhnYFallEkllfCeHWNJxeD9u/uf/f3lYHUH214gcnVkTtLAmCyoo2xEmwbOv+IS9y6fQsMAYALDLp9S9z/iBs6EmyNsbKiAmA7S9WRgclteNQflYH39+5/9u8Xg40neHVXwiSWllGBWmGdD7gpcNUyRYYV5Px+BQRCgAUU+Xul1DCMJ0GNZ1urYqgjZZVE9Y3i0Ol6+xeTgA==\" type=\"audio/wav\" />\n",
       "                    Your browser does not support the audio element.\n",
       "                </audio>\n",
       "              "
      ],
      "text/plain": [
       "<IPython.lib.display.Audio object>"
      ]
     },
     "metadata": {},
     "output_type": "display_data"
    },
    {
     "data": {
      "text/html": [
       "\n",
       "                <audio controls=\"controls\" autoplay=\"autoplay\">\n",
       "                    <source src=\"data:audio/wav;base64,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\" type=\"audio/wav\" />\n",
       "                    Your browser does not support the audio element.\n",
       "                </audio>\n",
       "              "
      ],
      "text/plain": [
       "<IPython.lib.display.Audio object>"
      ]
     },
     "metadata": {},
     "output_type": "display_data"
    },
    {
     "data": {
      "text/html": [
       "\n",
       "                <audio controls=\"controls\" autoplay=\"autoplay\">\n",
       "                    <source src=\"data:audio/wav;base64,UklGRvQHAABXQVZFZm10IBAAAAABAAEAECcAACBOAAACABAAZGF0YdAHAAAAAG1/BegXhR4vC3Jru92anlelVHOY2b7Qc1srB4T7675/+/sEgesbu3krzdeP8UefYn+laq7caak9iIpz2Ol8ChASgAkIa34s4JOHfzYrbsW0/p9OXXNO7pPlxQF3tSNGgvXz/3/180aCtSMBd+XF7pNzTk5d/p/FtCtufzaThyzga34JCBKAChDpfHPYiIqpPdxpaq5/pZ9i8UfXjyvNu3nrGwSB+/u+f/vrB4RbK9Bz2b5zmKVUnlfdmmu7C3IeLxeFBehtfwAAk4D7F+l64tD1jZVEI2ViqFurjWcnQTCMpdT5ewUUQoAFBPx+FeRFhtUyKXAPuGGdgVqWUSSWV8J4dY0nF4P27+5/9/eVgdQfbXiBydWRO0sCYLKijbESbBs6/4hL3Lp9CwwBgAsMun1L3P+IGzoSbI2xsqICYDtL1ZGByW141B+Vgff37n/27xeDjSd4dVfCJJaWUYFaYZ0PuClw1TJFhhXk/H4FBEKABRT5e6XUMIwnQY1nW6tiqCNllUT1jeLQ6Xr7F5OAAABtfwXoF4UeLwtya7vdmp5XpVRzmNm+0HNbKweE++u+f/v7BIHrG7t5K83Xj/FHn2J/pWqu3GmpPYiKc9jpfAoQEoAJCGt+LOCTh382K27FtP6fTl1zTu6T5cUBd7UjRoL18/9/9fNGgrUjAXflxe6Tc05OXf6fxbQrbn82k4cs4Gt+CQgSgAoQ6Xxz2IiKqT3caWquf6WfYvFH148rzbt56xsEgfv7vn/76weEWyvQc9m+c5ilVJ5X3ZpruwtyHi8XhQXobX8AAJOA+xfpeuLQ9Y2VRCNlYqhbq41nJ0EwjKXU+XsFFEKABQT8fhXkRYbVMilwD7hhnYFallEkllfCeHWNJxeD9u/uf/f3lYHUH214gcnVkTtLAmCyoo2xEmwbOv+IS9y6fQsMAYALDLp9S9z/iBs6EmyNsbKiAmA7S9WRgclteNQflYH39+5/9u8Xg40neHVXwiSWllGBWmGdD7gpcNUyRYYV5Px+BQRCgAUU+Xul1DCMJ0GNZ1urYqgjZZVE9Y3i0Ol6+xeTgAAAbX8F6BeFHi8Lcmu73ZqeV6VUc5jZvtBzWysHhPvrvn/7+wSB6xu7eSvN14/xR59if6VqrtxpqT2IinPY6XwKEBKACQhrfizgk4d/NituxbT+n05dc07uk+XFAXe1I0aC9fP/f/XzRoK1IwF35cXuk3NOTl3+n8W0K25/NpOHLOBrfgkIEoAKEOl8c9iIiqk93Glqrn+ln2LxR9ePK827eesbBIH7+75/++sHhFsr0HPZvnOYpVSeV92aa7sLch4vF4UF6G1/AACTgPsX6Xri0PWNlUQjZWKoW6uNZydBMIyl1Pl7BRRCgAUE/H4V5EWG1TIpcA+4YZ2BWpZRJJZXwnh1jScXg/bv7n/395WB1B9teIHJ1ZE7SwJgsqKNsRJsGzr/iEvcun0LDAGACwy6fUvc/4gbOhJsjbGyogJgO0vVkYHJbXjUH5WB9/fuf/bvF4ONJ3h1V8IklpZRgVphnQ+4KXDVMkWGFeT8fgUEQoAFFPl7pdQwjCdBjWdbq2KoI2WVRPWN4tDpevsXk4AAAG1/BegXhR4vC3Jru92anlelVHOY2b7Qc1srB4T7675/+/sEgesbu3krzdeP8UefYn+laq7caak9iIpz2Ol8ChASgAkIa34s4JOHfzYrbsW0/p9OXXNO7pPlxQF3tSNGgvXz/3/180aCtSMBd+XF7pNzTk5d/p/FtCtufzaThyzga34JCBKAChDpfHPYiIqpPdxpaq5/pZ9i8UfXjyvNu3nrGwSB+/u+f/vrB4RbK9Bz2b5zmKVUnlfdmmu7C3IeLxeFBehtfwAAk4D7F+l64tD1jZVEI2ViqFurjWcnQTCMpdT5ewUUQoAFBPx+FeRFhtUyKXAPuGGdgVqWUSSWV8J4dY0nF4P27+5/9/eVgdQfbXiBydWRO0sCYLKijbESbBs6/4hL3Lp9CwwBgAsMun1L3P+IGzoSbI2xsqICYDtL1ZGByW141B+Vgff37n/27xeDjSd4dVfCJJaWUYFaYZ0PuClw1TJFhhXk/H4FBEKABRT5e6XUMIwnQY1nW6tiqCNllUT1jeLQ6Xr7F5OAAABtfwXoF4UeLwtya7vdmp5XpVRzmNm+0HNbKweE++u+f/v7BIHrG7t5K83Xj/FHn2J/pWqu3GmpPYiKc9jpfAoQEoAJCGt+LOCTh382K27FtP6fTl1zTu6T5cUBd7UjRoL18/9/9fNGgrUjAXflxe6Tc05OXf6fxbQrbn82k4cs4Gt+CQgSgAoQ6Xxz2IiKqT3caWquf6WfYvFH148rzbt56xsEgfv7vn/76weEWyvQc9m+c5ilVJ5X3ZpruwtyHi8XhQXobX8AAJOA+xfpeuLQ9Y2VRCNlYqhbq41nJ0EwjKXU+XsFFEKABQT8fhXkRYbVMilwD7hhnYFallEkllfCeHWNJxeD9u/uf/f3lYHUH214gcnVkTtLAmCyoo2xEmwbOv+IS9y6fQsMAYALDLp9S9z/iBs6EmyNsbKiAmA7S9WRgclteNQflYH39+5/9u8Xg40neHVXwiSWllGBWmGdD7gpcNUyRYYV5Px+BQRCgAUU+Xul1DCMJ0GNZ1urYqgjZZVE9Y3i0Ol6+xeTgA==\" type=\"audio/wav\" />\n",
       "                    Your browser does not support the audio element.\n",
       "                </audio>\n",
       "              "
      ],
      "text/plain": [
       "<IPython.lib.display.Audio object>"
      ]
     },
     "metadata": {},
     "output_type": "display_data"
    },
    {
     "data": {
      "text/html": [
       "\n",
       "                <audio controls=\"controls\" autoplay=\"autoplay\">\n",
       "                    <source src=\"data:audio/wav;base64,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\" type=\"audio/wav\" />\n",
       "                    Your browser does not support the audio element.\n",
       "                </audio>\n",
       "              "
      ],
      "text/plain": [
       "<IPython.lib.display.Audio object>"
      ]
     },
     "metadata": {},
     "output_type": "display_data"
    },
    {
     "data": {
      "text/html": [
       "\n",
       "                <audio controls=\"controls\" autoplay=\"autoplay\">\n",
       "                    <source src=\"data:audio/wav;base64,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\" type=\"audio/wav\" />\n",
       "                    Your browser does not support the audio element.\n",
       "                </audio>\n",
       "              "
      ],
      "text/plain": [
       "<IPython.lib.display.Audio object>"
      ]
     },
     "metadata": {},
     "output_type": "display_data"
    },
    {
     "data": {
      "text/html": [
       "\n",
       "                <audio controls=\"controls\" autoplay=\"autoplay\">\n",
       "                    <source src=\"data:audio/wav;base64,UklGRvQHAABXQVZFZm10IBAAAAABAAEAECcAACBOAAACABAAZGF0YdAHAAAAAG1/BegXhR4vC3Jru92anlelVHOY2b7Qc1srB4T7675/+/sEgesbu3krzdeP8UefYn+laq7caak9iIpz2Ol8ChASgAkIa34s4JOHfzYrbsW0/p9OXXNO7pPlxQF3tSNGgvXz/3/180aCtSMBd+XF7pNzTk5d/p/FtCtufzaThyzga34JCBKAChDpfHPYiIqpPdxpaq5/pZ9i8UfXjyvNu3nrGwSB+/u+f/vrB4RbK9Bz2b5zmKVUnlfdmmu7C3IeLxeFBehtfwAAk4D7F+l64tD1jZVEI2ViqFurjWcnQTCMpdT5ewUUQoAFBPx+FeRFhtUyKXAPuGGdgVqWUSSWV8J4dY0nF4P27+5/9/eVgdQfbXiBydWRO0sCYLKijbESbBs6/4hL3Lp9CwwBgAsMun1L3P+IGzoSbI2xsqICYDtL1ZGByW141B+Vgff37n/27xeDjSd4dVfCJJaWUYFaYZ0PuClw1TJFhhXk/H4FBEKABRT5e6XUMIwnQY1nW6tiqCNllUT1jeLQ6Xr7F5OAAABtfwXoF4UeLwtya7vdmp5XpVRzmNm+0HNbKweE++u+f/v7BIHrG7t5K83Xj/FHn2J/pWqu3GmpPYiKc9jpfAoQEoAJCGt+LOCTh382K27FtP6fTl1zTu6T5cUBd7UjRoL18/9/9fNGgrUjAXflxe6Tc05OXf6fxbQrbn82k4cs4Gt+CQgSgAoQ6Xxz2IiKqT3caWquf6WfYvFH148rzbt56xsEgfv7vn/76weEWyvQc9m+c5ilVJ5X3ZpruwtyHi8XhQXobX8AAJOA+xfpeuLQ9Y2VRCNlYqhbq41nJ0EwjKXU+XsFFEKABQT8fhXkRYbVMilwD7hhnYFallEkllfCeHWNJxeD9u/uf/f3lYHUH214gcnVkTtLAmCyoo2xEmwbOv+IS9y6fQsMAYALDLp9S9z/iBs6EmyNsbKiAmA7S9WRgclteNQflYH39+5/9u8Xg40neHVXwiSWllGBWmGdD7gpcNUyRYYV5Px+BQRCgAUU+Xul1DCMJ0GNZ1urYqgjZZVE9Y3i0Ol6+xeTgAAAbX8F6BeFHi8Lcmu73ZqeV6VUc5jZvtBzWysHhPvrvn/7+wSB6xu7eSvN14/xR59if6VqrtxpqT2IinPY6XwKEBKACQhrfizgk4d/NituxbT+n05dc07uk+XFAXe1I0aC9fP/f/XzRoK1IwF35cXuk3NOTl3+n8W0K25/NpOHLOBrfgkIEoAKEOl8c9iIiqk93Glqrn+ln2LxR9ePK827eesbBIH7+75/++sHhFsr0HPZvnOYpVSeV92aa7sLch4vF4UF6G1/AACTgPsX6Xri0PWNlUQjZWKoW6uNZydBMIyl1Pl7BRRCgAUE/H4V5EWG1TIpcA+4YZ2BWpZRJJZXwnh1jScXg/bv7n/395WB1B9teIHJ1ZE7SwJgsqKNsRJsGzr/iEvcun0LDAGACwy6fUvc/4gbOhJsjbGyogJgO0vVkYHJbXjUH5WB9/fuf/bvF4ONJ3h1V8IklpZRgVphnQ+4KXDVMkWGFeT8fgUEQoAFFPl7pdQwjCdBjWdbq2KoI2WVRPWN4tDpevsXk4AAAG1/BegXhR4vC3Jru92anlelVHOY2b7Qc1srB4T7675/+/sEgesbu3krzdeP8UefYn+laq7caak9iIpz2Ol8ChASgAkIa34s4JOHfzYrbsW0/p9OXXNO7pPlxQF3tSNGgvXz/3/180aCtSMBd+XF7pNzTk5d/p/FtCtufzaThyzga34JCBKAChDpfHPYiIqpPdxpaq5/pZ9i8UfXjyvNu3nrGwSB+/u+f/vrB4RbK9Bz2b5zmKVUnlfdmmu7C3IeLxeFBehtfwAAk4D7F+l64tD1jZVEI2ViqFurjWcnQTCMpdT5ewUUQoAFBPx+FeRFhtUyKXAPuGGdgVqWUSSWV8J4dY0nF4P27+5/9/eVgdQfbXiBydWRO0sCYLKijbESbBs6/4hL3Lp9CwwBgAsMun1L3P+IGzoSbI2xsqICYDtL1ZGByW141B+Vgff37n/27xeDjSd4dVfCJJaWUYFaYZ0PuClw1TJFhhXk/H4FBEKABRT5e6XUMIwnQY1nW6tiqCNllUT1jeLQ6Xr7F5OAAABtfwXoF4UeLwtya7vdmp5XpVRzmNm+0HNbKweE++u+f/v7BIHrG7t5K83Xj/FHn2J/pWqu3GmpPYiKc9jpfAoQEoAJCGt+LOCTh382K27FtP6fTl1zTu6T5cUBd7UjRoL18/9/9fNGgrUjAXflxe6Tc05OXf6fxbQrbn82k4cs4Gt+CQgSgAoQ6Xxz2IiKqT3caWquf6WfYvFH148rzbt56xsEgfv7vn/76weEWyvQc9m+c5ilVJ5X3ZpruwtyHi8XhQXobX8AAJOA+xfpeuLQ9Y2VRCNlYqhbq41nJ0EwjKXU+XsFFEKABQT8fhXkRYbVMilwD7hhnYFallEkllfCeHWNJxeD9u/uf/f3lYHUH214gcnVkTtLAmCyoo2xEmwbOv+IS9y6fQsMAYALDLp9S9z/iBs6EmyNsbKiAmA7S9WRgclteNQflYH39+5/9u8Xg40neHVXwiSWllGBWmGdD7gpcNUyRYYV5Px+BQRCgAUU+Xul1DCMJ0GNZ1urYqgjZZVE9Y3i0Ol6+xeTgA==\" type=\"audio/wav\" />\n",
       "                    Your browser does not support the audio element.\n",
       "                </audio>\n",
       "              "
      ],
      "text/plain": [
       "<IPython.lib.display.Audio object>"
      ]
     },
     "metadata": {},
     "output_type": "display_data"
    },
    {
     "data": {
      "text/html": [
       "\n",
       "                <audio controls=\"controls\" autoplay=\"autoplay\">\n",
       "                    <source src=\"data:audio/wav;base64,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\" type=\"audio/wav\" />\n",
       "                    Your browser does not support the audio element.\n",
       "                </audio>\n",
       "              "
      ],
      "text/plain": [
       "<IPython.lib.display.Audio object>"
      ]
     },
     "metadata": {},
     "output_type": "display_data"
    },
    {
     "data": {
      "text/html": [
       "\n",
       "                <audio controls=\"controls\" autoplay=\"autoplay\">\n",
       "                    <source src=\"data:audio/wav;base64,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\" type=\"audio/wav\" />\n",
       "                    Your browser does not support the audio element.\n",
       "                </audio>\n",
       "              "
      ],
      "text/plain": [
       "<IPython.lib.display.Audio object>"
      ]
     },
     "metadata": {},
     "output_type": "display_data"
    },
    {
     "data": {
      "text/html": [
       "\n",
       "                <audio controls=\"controls\" autoplay=\"autoplay\">\n",
       "                    <source src=\"data:audio/wav;base64,UklGRvQHAABXQVZFZm10IBAAAAABAAEAECcAACBOAAACABAAZGF0YdAHAAAAAMiFZbcVT5d39/ejgyi+P1V9dPbv+4EtxRJb7nAF6NOAbsyKYOxsLOArgOTToGV8aHPYBICF21Bqo2Pi0F+ATOOUbmZegck6gS/raHLIWFfCloIo88l10lJru3CELvuyeIdMxbTHhjcDInvvRWqumIk+CxZ9ET9iqOKMOhOLfvI3sqKfkCIbgH+cMGGdzZTvIvR/FClzmGiZmSrnf2Ih7pNqnhgyWX+PGdePzqNkOUp+ohEwjJCpdkC8fKQJ/4ipr0dHr3qbAUWGE7bQTSd4kvkHhMi8ClQldY/xRoLBw+9ZrXGa6QSB98p6X8Jtu+FCgGLSpGRoafvZAYD72WhppGRi0kKAu+HCbXpf98oEgZrprXHvWcHDRoKP8SV1ClTIvAeEkvkneNBNE7ZFhpsBr3pHR6mv/4ikCbx8dkCQqTCMohFKfmQ5zqPXj48ZWX8YMmqe7pNiIed/mSpomXOYFCn0f+8izZRhnZwwgH8iG5+QsqLyN4t+OhPijGKoET8WfT4LmIlqru9FIns3A8eGxbSHTLJ4LvtwhGu70lLJdSjzloJXwshYaHIv6zqBgclmXpRuTONfgOLQo2NQaoXbBIBz2HxooGXk0yuALODsbIpgbszTgAXo7nASWy3F+4H27310P1UovqOD9/eXdxVPZbfIhQAAOHqbSOuwaYgJCF182EHBqoOLChAFftM67qQSj/sXLX+SM3afFJPUH9V/HCxgmoSXjSf8f3sksJVdnB4voX+0HGyRmqF/NsZ+0RSYjTinqT1qfdgMN4ourZVEkHvSBE6HebM7Szl5yfzehBG6llFodsL06oLvwJ5XHnPG7HWBDshOXWFv3uSAgGTPn2IzaxHdDIDs1o1nmGZn1RmAnt4SbJZh6M2ngHHmKXAyXJzGtoFe7tBzcFaKv0SDXPYBd1dQubhRhWX+u3ntSTCy2YduBvl7OEP2q9uKcQ66fT88EaZTjmYW/H4JNYagPpJFHr5/ni1cm5iWBSb/fwUmmJZcm54tvn9FHj6ShqAJNfx+ZhZTjhGmPzy6fXEO24r2qzhD+XtuBtmHMLLtSbt5Zf5Rhbm4V1ABd1z2RIOKv3BW0HNe7raBnMYyXClwceangOjNlmESbJ7eGYBn1ZhmjWfs1gyAEd0za59iZM+AgN7kYW9OXQ7IdYHG7B5znlfvwOqCwvRodpZREbrehMn8OXk7S3mzTofSBJB7lUQurTeK2Axqfak9OKeYjdEUxn5/NpqhbJG0HKF/Hi9dnLCVeyT8f40nhJdgmhws1X/UHxSTdp+SMy1/+xcSj+6k0zoFfgoQg4vBqthBXXwJCGmI67CbSDh6AADIhWW3FU+Xd/f3o4Movj9VfXT27/uBLcUSW+5wBejTgG7MimDsbCzgK4Dk06BlfGhz2ASAhdtQaqNj4tBfgEzjlG5mXoHJOoEv62hyyFhXwpaCKPPJddJSa7twhC77sniHTMW0x4Y3AyJ770VqrpiJPgsWfRE/YqjijDoTi37yN7Kin5AiG4B/nDBhnc2U7yL0fxQpc5homZkq539iIe6Tap4YMll/jxnXj86jZDlKfqIRMIyQqXZAvHykCf+Iqa9HR696mwFFhhO20E0neJL5B4TIvApUJXWP8UaCwcPvWa1xmukEgffKel/CbbvhQoBi0qRkaGn72QGA+9loaaRkYtJCgLvhwm16X/fKBIGa6a1x71nBw0aCj/EldQpUyLwHhJL5J3jQTRO2RYabAa96R0epr/+IpAm8fHZAkKkwjKIRSn5kOc6j14+PGVl/GDJqnu6TYiHnf5kqaJlzmBQp9H/vIs2UYZ2cMIB/IhufkLKi8jeLfjoT4oxiqBE/Fn0+C5iJaq7vRSJ7NwPHhsW0h0yyeC77cIRru9JSyXUo85aCV8LIWGhyL+s6gYHJZl6UbkzjX4Di0KNjUGqF2wSAc9h8aKBl5NMrgCzg7GyKYG7M04AF6O5wElstxfuB9u99dD9VKL6jg/f3l3cVT2W3yIUAADh6m0jrsGmICQhdfNhBwaqDiwoQBX7TOu6kEo/7Fy1/kjN2nxST1B/VfxwsYJqEl40n/H97JLCVXZweL6F/tBxskZqhfzbGftEUmI04p6k9an3YDDeKLq2VRJB70gROh3mzO0s5ecn83oQRupZRaHbC9OqC78CeVx5zxux1gQ7ITl1hb97kgIBkz59iM2sR3QyA7NaNZ5hmZ9UZgJ7eEmyWYejNp4Bx5ilwMlycxraBXu7Qc3BWir9Eg1z2AXdXULm4UYVl/rt57UkwstmHbgb5ezhD9qvbinEOun0/PBGmU45mFvx+CTWGoD6SRR6+f54tXJuYlgUm/38FJpiWXJueLb5/RR4+koagCTX8fmYWU44Rpj88un1xDtuK9qs4Q/l7bgbZhzCy7Um7eWX+UYW5uFdQAXdc9kSDir9wVtBzXu62gZzGMlwpcHHmp4DozZZhEmye3hmAZ9WYZo1n7NYMgBHdM2ufYmTPgIDe5GFvTl0OyHWBxuwec55X78DqgsL0aHaWURG63oTJ/Dl5O0t5s06H0gSQe5VELq03itgMan2pPTinmI3RFMZ+fzaaoWyRtByhfx4vXZywlXsk/H+NJ4SXYJocLNV/1B8Uk3afkjMtf/sXEo/upNM6BX4KEIOLwarYQV18CQhpiOuwm0g4eg==\" type=\"audio/wav\" />\n",
       "                    Your browser does not support the audio element.\n",
       "                </audio>\n",
       "              "
      ],
      "text/plain": [
       "<IPython.lib.display.Audio object>"
      ]
     },
     "metadata": {},
     "output_type": "display_data"
    },
    {
     "data": {
      "text/html": [
       "\n",
       "                <audio controls=\"controls\" autoplay=\"autoplay\">\n",
       "                    <source src=\"data:audio/wav;base64,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\" type=\"audio/wav\" />\n",
       "                    Your browser does not support the audio element.\n",
       "                </audio>\n",
       "              "
      ],
      "text/plain": [
       "<IPython.lib.display.Audio object>"
      ]
     },
     "metadata": {},
     "output_type": "display_data"
    },
    {
     "data": {
      "text/html": [
       "\n",
       "                <audio controls=\"controls\" autoplay=\"autoplay\">\n",
       "                    <source src=\"data:audio/wav;base64,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\" type=\"audio/wav\" />\n",
       "                    Your browser does not support the audio element.\n",
       "                </audio>\n",
       "              "
      ],
      "text/plain": [
       "<IPython.lib.display.Audio object>"
      ]
     },
     "metadata": {},
     "output_type": "display_data"
    },
    {
     "data": {
      "text/html": [
       "\n",
       "                <audio controls=\"controls\" autoplay=\"autoplay\">\n",
       "                    <source src=\"data:audio/wav;base64,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\" type=\"audio/wav\" />\n",
       "                    Your browser does not support the audio element.\n",
       "                </audio>\n",
       "              "
      ],
      "text/plain": [
       "<IPython.lib.display.Audio object>"
      ]
     },
     "metadata": {},
     "output_type": "display_data"
    },
    {
     "data": {
      "text/html": [
       "\n",
       "                <audio controls=\"controls\" autoplay=\"autoplay\">\n",
       "                    <source src=\"data:audio/wav;base64,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\" type=\"audio/wav\" />\n",
       "                    Your browser does not support the audio element.\n",
       "                </audio>\n",
       "              "
      ],
      "text/plain": [
       "<IPython.lib.display.Audio object>"
      ]
     },
     "metadata": {},
     "output_type": "display_data"
    },
    {
     "data": {
      "text/html": [
       "\n",
       "                <audio controls=\"controls\" autoplay=\"autoplay\">\n",
       "                    <source src=\"data:audio/wav;base64,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\" type=\"audio/wav\" />\n",
       "                    Your browser does not support the audio element.\n",
       "                </audio>\n",
       "              "
      ],
      "text/plain": [
       "<IPython.lib.display.Audio object>"
      ]
     },
     "metadata": {},
     "output_type": "display_data"
    },
    {
     "data": {
      "text/html": [
       "\n",
       "                <audio controls=\"controls\" autoplay=\"autoplay\">\n",
       "                    <source src=\"data:audio/wav;base64,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\" type=\"audio/wav\" />\n",
       "                    Your browser does not support the audio element.\n",
       "                </audio>\n",
       "              "
      ],
      "text/plain": [
       "<IPython.lib.display.Audio object>"
      ]
     },
     "metadata": {},
     "output_type": "display_data"
    },
    {
     "data": {
      "text/html": [
       "\n",
       "                <audio controls=\"controls\" autoplay=\"autoplay\">\n",
       "                    <source src=\"data:audio/wav;base64,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\" type=\"audio/wav\" />\n",
       "                    Your browser does not support the audio element.\n",
       "                </audio>\n",
       "              "
      ],
      "text/plain": [
       "<IPython.lib.display.Audio object>"
      ]
     },
     "metadata": {},
     "output_type": "display_data"
    },
    {
     "data": {
      "text/html": [
       "\n",
       "                <audio controls=\"controls\" autoplay=\"autoplay\">\n",
       "                    <source src=\"data:audio/wav;base64,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\" type=\"audio/wav\" />\n",
       "                    Your browser does not support the audio element.\n",
       "                </audio>\n",
       "              "
      ],
      "text/plain": [
       "<IPython.lib.display.Audio object>"
      ]
     },
     "metadata": {},
     "output_type": "display_data"
    },
    {
     "data": {
      "text/html": [
       "\n",
       "                <audio controls=\"controls\" autoplay=\"autoplay\">\n",
       "                    <source src=\"data:audio/wav;base64,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\" type=\"audio/wav\" />\n",
       "                    Your browser does not support the audio element.\n",
       "                </audio>\n",
       "              "
      ],
      "text/plain": [
       "<IPython.lib.display.Audio object>"
      ]
     },
     "metadata": {},
     "output_type": "display_data"
    },
    {
     "data": {
      "text/html": [
       "\n",
       "                <audio controls=\"controls\" autoplay=\"autoplay\">\n",
       "                    <source src=\"data:audio/wav;base64,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\" type=\"audio/wav\" />\n",
       "                    Your browser does not support the audio element.\n",
       "                </audio>\n",
       "              "
      ],
      "text/plain": [
       "<IPython.lib.display.Audio object>"
      ]
     },
     "metadata": {},
     "output_type": "display_data"
    },
    {
     "data": {
      "text/html": [
       "\n",
       "                <audio controls=\"controls\" autoplay=\"autoplay\">\n",
       "                    <source src=\"data:audio/wav;base64,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\" type=\"audio/wav\" />\n",
       "                    Your browser does not support the audio element.\n",
       "                </audio>\n",
       "              "
      ],
      "text/plain": [
       "<IPython.lib.display.Audio object>"
      ]
     },
     "metadata": {},
     "output_type": "display_data"
    },
    {
     "data": {
      "text/html": [
       "\n",
       "                <audio controls=\"controls\" autoplay=\"autoplay\">\n",
       "                    <source src=\"data:audio/wav;base64,UklGRvQHAABXQVZFZm10IBAAAAABAAEAECcAACBOAAACABAAZGF0YdAHAAAAAG1/BegXhR4vC3Jru92anlelVHOY2b7Qc1srB4T7675/+/sEgesbu3krzdeP8UefYn+laq7caak9iIpz2Ol8ChASgAkIa34s4JOHfzYrbsW0/p9OXXNO7pPlxQF3tSNGgvXz/3/180aCtSMBd+XF7pNzTk5d/p/FtCtufzaThyzga34JCBKAChDpfHPYiIqpPdxpaq5/pZ9i8UfXjyvNu3nrGwSB+/u+f/vrB4RbK9Bz2b5zmKVUnlfdmmu7C3IeLxeFBehtfwAAk4D7F+l64tD1jZVEI2ViqFurjWcnQTCMpdT5ewUUQoAFBPx+FeRFhtUyKXAPuGGdgVqWUSSWV8J4dY0nF4P27+5/9/eVgdQfbXiBydWRO0sCYLKijbESbBs6/4hL3Lp9CwwBgAsMun1L3P+IGzoSbI2xsqICYDtL1ZGByW141B+Vgff37n/27xeDjSd4dVfCJJaWUYFaYZ0PuClw1TJFhhXk/H4FBEKABRT5e6XUMIwnQY1nW6tiqCNllUT1jeLQ6Xr7F5OAAABtfwXoF4UeLwtya7vdmp5XpVRzmNm+0HNbKweE++u+f/v7BIHrG7t5K83Xj/FHn2J/pWqu3GmpPYiKc9jpfAoQEoAJCGt+LOCTh382K27FtP6fTl1zTu6T5cUBd7UjRoL18/9/9fNGgrUjAXflxe6Tc05OXf6fxbQrbn82k4cs4Gt+CQgSgAoQ6Xxz2IiKqT3caWquf6WfYvFH148rzbt56xsEgfv7vn/76weEWyvQc9m+c5ilVJ5X3ZpruwtyHi8XhQXobX8AAJOA+xfpeuLQ9Y2VRCNlYqhbq41nJ0EwjKXU+XsFFEKABQT8fhXkRYbVMilwD7hhnYFallEkllfCeHWNJxeD9u/uf/f3lYHUH214gcnVkTtLAmCyoo2xEmwbOv+IS9y6fQsMAYALDLp9S9z/iBs6EmyNsbKiAmA7S9WRgclteNQflYH39+5/9u8Xg40neHVXwiSWllGBWmGdD7gpcNUyRYYV5Px+BQRCgAUU+Xul1DCMJ0GNZ1urYqgjZZVE9Y3i0Ol6+xeTgAAAbX8F6BeFHi8Lcmu73ZqeV6VUc5jZvtBzWysHhPvrvn/7+wSB6xu7eSvN14/xR59if6VqrtxpqT2IinPY6XwKEBKACQhrfizgk4d/NituxbT+n05dc07uk+XFAXe1I0aC9fP/f/XzRoK1IwF35cXuk3NOTl3+n8W0K25/NpOHLOBrfgkIEoAKEOl8c9iIiqk93Glqrn+ln2LxR9ePK827eesbBIH7+75/++sHhFsr0HPZvnOYpVSeV92aa7sLch4vF4UF6G1/AACTgPsX6Xri0PWNlUQjZWKoW6uNZydBMIyl1Pl7BRRCgAUE/H4V5EWG1TIpcA+4YZ2BWpZRJJZXwnh1jScXg/bv7n/395WB1B9teIHJ1ZE7SwJgsqKNsRJsGzr/iEvcun0LDAGACwy6fUvc/4gbOhJsjbGyogJgO0vVkYHJbXjUH5WB9/fuf/bvF4ONJ3h1V8IklpZRgVphnQ+4KXDVMkWGFeT8fgUEQoAFFPl7pdQwjCdBjWdbq2KoI2WVRPWN4tDpevsXk4AAAG1/BegXhR4vC3Jru92anlelVHOY2b7Qc1srB4T7675/+/sEgesbu3krzdeP8UefYn+laq7caak9iIpz2Ol8ChASgAkIa34s4JOHfzYrbsW0/p9OXXNO7pPlxQF3tSNGgvXz/3/180aCtSMBd+XF7pNzTk5d/p/FtCtufzaThyzga34JCBKAChDpfHPYiIqpPdxpaq5/pZ9i8UfXjyvNu3nrGwSB+/u+f/vrB4RbK9Bz2b5zmKVUnlfdmmu7C3IeLxeFBehtfwAAk4D7F+l64tD1jZVEI2ViqFurjWcnQTCMpdT5ewUUQoAFBPx+FeRFhtUyKXAPuGGdgVqWUSSWV8J4dY0nF4P27+5/9/eVgdQfbXiBydWRO0sCYLKijbESbBs6/4hL3Lp9CwwBgAsMun1L3P+IGzoSbI2xsqICYDtL1ZGByW141B+Vgff37n/27xeDjSd4dVfCJJaWUYFaYZ0PuClw1TJFhhXk/H4FBEKABRT5e6XUMIwnQY1nW6tiqCNllUT1jeLQ6Xr7F5OAAABtfwXoF4UeLwtya7vdmp5XpVRzmNm+0HNbKweE++u+f/v7BIHrG7t5K83Xj/FHn2J/pWqu3GmpPYiKc9jpfAoQEoAJCGt+LOCTh382K27FtP6fTl1zTu6T5cUBd7UjRoL18/9/9fNGgrUjAXflxe6Tc05OXf6fxbQrbn82k4cs4Gt+CQgSgAoQ6Xxz2IiKqT3caWquf6WfYvFH148rzbt56xsEgfv7vn/76weEWyvQc9m+c5ilVJ5X3ZpruwtyHi8XhQXobX8AAJOA+xfpeuLQ9Y2VRCNlYqhbq41nJ0EwjKXU+XsFFEKABQT8fhXkRYbVMilwD7hhnYFallEkllfCeHWNJxeD9u/uf/f3lYHUH214gcnVkTtLAmCyoo2xEmwbOv+IS9y6fQsMAYALDLp9S9z/iBs6EmyNsbKiAmA7S9WRgclteNQflYH39+5/9u8Xg40neHVXwiSWllGBWmGdD7gpcNUyRYYV5Px+BQRCgAUU+Xul1DCMJ0GNZ1urYqgjZZVE9Y3i0Ol6+xeTgA==\" type=\"audio/wav\" />\n",
       "                    Your browser does not support the audio element.\n",
       "                </audio>\n",
       "              "
      ],
      "text/plain": [
       "<IPython.lib.display.Audio object>"
      ]
     },
     "metadata": {},
     "output_type": "display_data"
    },
    {
     "data": {
      "text/html": [
       "\n",
       "                <audio controls=\"controls\" autoplay=\"autoplay\">\n",
       "                    <source src=\"data:audio/wav;base64,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\" type=\"audio/wav\" />\n",
       "                    Your browser does not support the audio element.\n",
       "                </audio>\n",
       "              "
      ],
      "text/plain": [
       "<IPython.lib.display.Audio object>"
      ]
     },
     "metadata": {},
     "output_type": "display_data"
    }
   ],
   "source": [
    "import random\n",
    "import math\n",
    "import numpy as np\n",
    "import IPython\n",
    "import time\n",
    "\n",
    "frequency = 300\n",
    "duration = 400\n",
    "\n",
    "n = range(36)\n",
    "\n",
    "\n",
    "for i in range(0,30) :\n",
    "\n",
    "    m = random.choice(n)\n",
    "    h= 3 * m -5     #Aqui escribo la ecuación que quiero que suene\n",
    "    if h<0: h=0\n",
    "    if h>=len(n): h=len(n)-1\n",
    "\n",
    "    #print(m)\n",
    "\n",
    "\n",
    "    f=round(frequency*(2**(float(h)/12)))\n",
    "    #print(i,f)\n",
    "    data = np.sin(2*np.pi*f*np.arange(1000)/10000*10)\n",
    "    IPython.display.display(IPython.display.Audio(data,rate=10000, autoplay=True))  \n",
    "    time.sleep(0.2)"
   ]
  },
  {
   "cell_type": "code",
   "execution_count": null,
   "metadata": {},
   "outputs": [],
   "source": []
  }
 ],
 "metadata": {
  "kernelspec": {
   "display_name": "Python 3",
   "language": "python",
   "name": "python3"
  },
  "language_info": {
   "codemirror_mode": {
    "name": "ipython",
    "version": 3
   },
   "file_extension": ".py",
   "mimetype": "text/x-python",
   "name": "python",
   "nbconvert_exporter": "python",
   "pygments_lexer": "ipython3",
   "version": "3.5.1"
  }
 },
 "nbformat": 4,
 "nbformat_minor": 1
}
